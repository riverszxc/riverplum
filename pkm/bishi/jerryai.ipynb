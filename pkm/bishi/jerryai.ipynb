{
 "cells": [
  {
   "cell_type": "code",
   "execution_count": 1,
   "metadata": {},
   "outputs": [
    {
     "name": "stdout",
     "output_type": "stream",
     "text": [
      "[[1, 5]]\n",
      "[[1, 5], [10, 20]]\n",
      "[[1, 5], [10, 20]]\n",
      "[[1, 5], [10, 21]]\n",
      "[[1, 5], [10, 21]]\n",
      "[[1, 8], [10, 21]]\n",
      "[[1, 8], [10, 21]]\n",
      "[[1, 8], [11, 21]]\n",
      "[[1, 8], [11, 15], [17, 21]]\n",
      "[[1, 3], [19, 21]]\n"
     ]
    }
   ],
   "source": [
    "class ListNode:\n",
    "    def __init__(self, val=[], next=None):\n",
    "        self.val = val\n",
    "        self.next = next\n",
    "\n",
    "class RangeList:\n",
    "    def __init__(self):\n",
    "        self.ranges = ListNode()\n",
    "    def add(self, range):\n",
    "        if not self.ranges.next:\n",
    "            self.ranges.next = ListNode(range)\n",
    "            return\n",
    "        pre = self.ranges\n",
    "        cur = self.ranges.next\n",
    "        while cur and cur.val[1] < range[0]:\n",
    "            pre = cur\n",
    "            cur = cur.next\n",
    "        while cur and cur.val[0] <= range[1]:\n",
    "            range[0] = min(cur.val[0], range[0])\n",
    "            range[1] = max(cur.val[1], range[1])\n",
    "            cur = cur.next\n",
    "        pre.next = ListNode(range)\n",
    "        pre.next.next = cur\n",
    "\n",
    "    def remove(self, range):\n",
    "        pre = self.ranges\n",
    "        cur = self.ranges.next\n",
    "        while cur and cur.val[1] < range[0]:\n",
    "            pre = cur\n",
    "            cur = cur.next\n",
    "        while cur and cur.val[0] <= range[1]:\n",
    "            if range[0] > cur.val[0]:\n",
    "                pre.next = ListNode([cur.val[0], range[0]])\n",
    "                pre = pre.next\n",
    "            if range[1] < cur.val[1]:\n",
    "                pre.next = ListNode([range[1], cur.val[1]])\n",
    "                pre = pre.next\n",
    "            cur = cur.next\n",
    "        pre.next = cur\n",
    "\n",
    "    def print(self):\n",
    "        cur = self.ranges.next\n",
    "        t = []\n",
    "        while cur:\n",
    "            t.append(cur.val)\n",
    "            cur = cur.next\n",
    "        print(t)\n",
    "rl = RangeList()\n",
    "rl.add([1,5])\n",
    "rl.print()\n",
    "rl.add([10,20])\n",
    "rl.print()\n",
    "rl.add([20,20])\n",
    "rl.print()\n",
    "rl.add([20,21])\n",
    "rl.print()\n",
    "rl.add([2,4])\n",
    "rl.print()\n",
    "rl.add([3,8])\n",
    "rl.print()\n",
    "rl.remove([10,10])\n",
    "rl.print()\n",
    "rl.remove([10,11])\n",
    "rl.print()\n",
    "rl.remove([15,17])\n",
    "rl.print()\n",
    "rl.remove([3,19])\n",
    "rl.print()"
   ]
  },
  {
   "cell_type": "code",
   "execution_count": null,
   "metadata": {},
   "outputs": [],
   "source": [
    "# 另有类似搜索二叉树的思路，时间关系暂未实现"
   ]
  }
 ],
 "metadata": {
  "kernelspec": {
   "display_name": "Python 3.9.7",
   "language": "python",
   "name": "python3"
  },
  "language_info": {
   "codemirror_mode": {
    "name": "ipython",
    "version": 3
   },
   "file_extension": ".py",
   "mimetype": "text/x-python",
   "name": "python",
   "nbconvert_exporter": "python",
   "pygments_lexer": "ipython3",
   "version": "3.9.7"
  },
  "orig_nbformat": 4,
  "vscode": {
   "interpreter": {
    "hash": "12aba83aff89421f168fa583bb93d662fa8cc7037f99dc2ee3422f0514abaef3"
   }
  }
 },
 "nbformat": 4,
 "nbformat_minor": 2
}
