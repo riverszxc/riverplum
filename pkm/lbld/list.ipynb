{
 "cells": [
  {
   "cell_type": "code",
   "execution_count": 4,
   "metadata": {},
   "outputs": [
    {
     "name": "stdout",
     "output_type": "stream",
     "text": [
      "2\n",
      "4\n",
      "6\n",
      "1\n",
      "3\n",
      "5\n"
     ]
    }
   ],
   "source": [
    "class ListNode:\n",
    "    def __init__(self, val=0, next=None):\n",
    "        self.val = val\n",
    "        self.next = next\n",
    "c = ListNode(6)\n",
    "b = ListNode(4, c)\n",
    "a = ListNode(2, b)\n",
    "f = ListNode(5)\n",
    "e = ListNode(3, f)\n",
    "d = ListNode(1, e)\n",
    "def printListNode(p):\n",
    "    while p:\n",
    "        print(p.val)\n",
    "        p = p.next\n",
    "printListNode(a)\n",
    "printListNode(d)"
   ]
  },
  {
   "cell_type": "code",
   "execution_count": 5,
   "metadata": {},
   "outputs": [
    {
     "name": "stdout",
     "output_type": "stream",
     "text": [
      "1\n",
      "2\n",
      "3\n",
      "4\n",
      "5\n",
      "6\n"
     ]
    }
   ],
   "source": [
    "def merge2list(list1, list2):\n",
    "    if not list1:\n",
    "        return list2\n",
    "    if not list2:\n",
    "        return list1\n",
    "    dummy = ListNode()\n",
    "    p = dummy\n",
    "    while list1 and list2:\n",
    "        if list1.val < list2.val:\n",
    "            p.next = list1\n",
    "            list1 = list1.next\n",
    "        else:\n",
    "            p.next = list2\n",
    "            list2 = list2.next\n",
    "        p = p.next\n",
    "    p.next = list1 if list1 else list2\n",
    "    return dummy.next\n",
    "printListNode(merge2list(a,d))"
   ]
  },
  {
   "cell_type": "code",
   "execution_count": null,
   "metadata": {},
   "outputs": [],
   "source": []
  }
 ],
 "metadata": {
  "kernelspec": {
   "display_name": "base",
   "language": "python",
   "name": "python3"
  },
  "language_info": {
   "codemirror_mode": {
    "name": "ipython",
    "version": 3
   },
   "file_extension": ".py",
   "mimetype": "text/x-python",
   "name": "python",
   "nbconvert_exporter": "python",
   "pygments_lexer": "ipython3",
   "version": "3.10.9"
  }
 },
 "nbformat": 4,
 "nbformat_minor": 2
}
