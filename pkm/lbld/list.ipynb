{
 "cells": [
  {
   "cell_type": "code",
   "execution_count": 93,
   "metadata": {},
   "outputs": [
    {
     "name": "stdout",
     "output_type": "stream",
     "text": [
      "2\n",
      "4\n",
      "6\n",
      "mid\n",
      "1\n",
      "3\n",
      "5\n"
     ]
    }
   ],
   "source": [
    "class ListNode:\n",
    "    def __init__(self, val=0, next=None):\n",
    "        self.val = val\n",
    "        self.next = next\n",
    "c = ListNode(6)\n",
    "b = ListNode(4, c)\n",
    "a = ListNode(2, b)\n",
    "f = ListNode(5)\n",
    "e = ListNode(3, f)\n",
    "d = ListNode(1, e)\n",
    "def printListNode(p):\n",
    "    while p:\n",
    "        print(p.val)\n",
    "        p = p.next\n",
    "printListNode(a)\n",
    "print('mid')\n",
    "printListNode(d)"
   ]
  },
  {
   "cell_type": "code",
   "execution_count": 86,
   "metadata": {},
   "outputs": [
    {
     "name": "stdout",
     "output_type": "stream",
     "text": [
      "2\n",
      "4\n",
      "6\n"
     ]
    }
   ],
   "source": [
    "printListNode(a)"
   ]
  },
  {
   "cell_type": "code",
   "execution_count": 92,
   "metadata": {},
   "outputs": [
    {
     "name": "stdout",
     "output_type": "stream",
     "text": [
      "ina\n",
      "2\n",
      "4\n",
      "6\n",
      "inb\n",
      "1\n",
      "3\n",
      "5\n",
      "mid\n",
      "1\n",
      "2\n",
      "3\n",
      "4\n",
      "5\n",
      "6\n",
      "outa\n",
      "2\n",
      "3\n",
      "4\n",
      "5\n",
      "6\n",
      "outb\n",
      "1\n",
      "2\n",
      "3\n",
      "4\n",
      "5\n",
      "6\n"
     ]
    }
   ],
   "source": [
    "def merge2list(list1, list2):\n",
    "    if not list1:\n",
    "        return list2\n",
    "    if not list2:\n",
    "        return list1\n",
    "    dummy = ListNode()\n",
    "    p = dummy\n",
    "    while list1 and list2:\n",
    "        if list1.val < list2.val:\n",
    "            p.next = list1\n",
    "            list1 = list1.next\n",
    "        else:\n",
    "            p.next = list2\n",
    "            list2 = list2.next\n",
    "        p = p.next\n",
    "    p.next = list1 if list1 else list2\n",
    "    return dummy.next\n",
    "print('ina')\n",
    "printListNode(a)\n",
    "print('inb')\n",
    "printListNode(d)\n",
    "print('mid')\n",
    "printListNode(merge2list(a,d))\n",
    "print('outa')\n",
    "printListNode(a)\n",
    "print('outb')\n",
    "printListNode(d)"
   ]
  },
  {
   "cell_type": "code",
   "execution_count": 94,
   "metadata": {},
   "outputs": [
    {
     "name": "stdout",
     "output_type": "stream",
     "text": [
      "0 1\n",
      "0 0\n",
      "1 1\n",
      "1\n",
      "2\n",
      "3\n",
      "4\n",
      "5\n",
      "6\n"
     ]
    }
   ],
   "source": [
    "def mergeKLists(lists):\n",
    "    def merge(l, r):\n",
    "        print(l, r)\n",
    "        if l == r:\n",
    "            return lists[l]\n",
    "        if l > r:\n",
    "            return []\n",
    "        mid = l + int((r - l)/2)\n",
    "        return merge2list(merge(l, mid), merge(mid+1, r))\n",
    "    if not lists:\n",
    "        return None\n",
    "    return merge(0, len(lists)-1)\n",
    "printListNode(mergeKLists([a, d]))"
   ]
  },
  {
   "cell_type": "code",
   "execution_count": 11,
   "metadata": {},
   "outputs": [
    {
     "data": {
      "text/plain": [
       "0"
      ]
     },
     "execution_count": 11,
     "metadata": {},
     "output_type": "execute_result"
    }
   ],
   "source": [
    "int(0.9)"
   ]
  },
  {
   "cell_type": "code",
   "execution_count": null,
   "metadata": {},
   "outputs": [],
   "source": []
  }
 ],
 "metadata": {
  "kernelspec": {
   "display_name": "base",
   "language": "python",
   "name": "python3"
  },
  "language_info": {
   "codemirror_mode": {
    "name": "ipython",
    "version": 3
   },
   "file_extension": ".py",
   "mimetype": "text/x-python",
   "name": "python",
   "nbconvert_exporter": "python",
   "pygments_lexer": "ipython3",
   "version": "3.10.9"
  }
 },
 "nbformat": 4,
 "nbformat_minor": 2
}
