{
 "cells": [
  {
   "cell_type": "code",
   "execution_count": 7,
   "metadata": {},
   "outputs": [],
   "source": [
    "class ListNode:\n",
    "    def __init__(self, val=0, next=None):\n",
    "        self.val = val\n",
    "        self.next = next\n",
    "\n",
    "class TreeNode:\n",
    "    def __init__(self, val=0, left=None, right=None):\n",
    "        self.val = val\n",
    "        self.left = left\n",
    "        self.right = right\n",
    "\n",
    "rll = TreeNode(6)\n",
    "ll = TreeNode(3)\n",
    "rl = TreeNode(4, left=rll)\n",
    "rr = TreeNode(5)\n",
    "l = TreeNode(1, left=ll)\n",
    "r = TreeNode(2, left=rl, right=rr)\n",
    "root = TreeNode(0, left=l, right=r)\n",
    "#      0\n",
    "#   1      2\n",
    "# 3      4   5\n",
    "#      6\n"
   ]
  },
  {
   "cell_type": "code",
   "execution_count": 8,
   "metadata": {},
   "outputs": [
    {
     "name": "stdout",
     "output_type": "stream",
     "text": [
      "[3, 1, 0, 6, 4, 2, 5]\n",
      "[3, 1, 0, 6, 4, 2, 5]\n",
      "[3, 1, 0, 6, 4, 2, 5]\n"
     ]
    }
   ],
   "source": [
    "def inorderTraversal(root):\n",
    "    res = []\n",
    "    if not root:\n",
    "        return res\n",
    "    res += inorderTraversal(root.left)\n",
    "    res.append(root.val)\n",
    "    res += inorderTraversal(root.right)\n",
    "    return res\n",
    "\n",
    "def inorderTraversal2(root):\n",
    "    res = []\n",
    "    if not root:\n",
    "        return res\n",
    "    def traverse(root):\n",
    "        if not root:\n",
    "            return\n",
    "        traverse(root.left)\n",
    "        res.append(root.val)\n",
    "        traverse(root.right)\n",
    "    traverse(root)\n",
    "    return res\n",
    "\n",
    "def inorderTraversal3(root):\n",
    "    res = []\n",
    "    if not root:\n",
    "        return res\n",
    "    stack = []\n",
    "    p = root\n",
    "    while p or stack:\n",
    "        while p:\n",
    "            stack.append(p)\n",
    "            p = p.left\n",
    "        p = stack.pop()\n",
    "        res.append(p.val)\n",
    "        p = p.right\n",
    "    return res\n",
    "\n",
    "print(inorderTraversal(root))\n",
    "print(inorderTraversal2(root))\n",
    "print(inorderTraversal3(root))"
   ]
  },
  {
   "cell_type": "code",
   "execution_count": 37,
   "metadata": {},
   "outputs": [
    {
     "name": "stdout",
     "output_type": "stream",
     "text": [
      "[0, 1, 3, 2, 4, 6, 5]\n",
      "[0, 1, 3, 2, 4, 6, 5]\n"
     ]
    }
   ],
   "source": [
    "def preorderTraversal(root):\n",
    "    res = []\n",
    "    def traverse(root):\n",
    "        if not root:\n",
    "            return\n",
    "        res.append(root.val)\n",
    "        traverse(root.left)\n",
    "        traverse(root.right)\n",
    "    traverse(root)\n",
    "    return res\n",
    "def preorderTraversal2(root):\n",
    "    res = []\n",
    "    if not root:\n",
    "        return res\n",
    "    stack = []\n",
    "    p = root\n",
    "    while p or stack:\n",
    "        while p:\n",
    "            res.append(p.val)\n",
    "            stack.append(p)\n",
    "            p = p.left\n",
    "        p = stack.pop()\n",
    "        p = p.right\n",
    "    return res\n",
    "\n",
    "\n",
    "print(preorderTraversal(root))\n",
    "print(preorderTraversal2(root))"
   ]
  },
  {
   "cell_type": "code",
   "execution_count": 40,
   "metadata": {},
   "outputs": [
    {
     "name": "stdout",
     "output_type": "stream",
     "text": [
      "[3, 1, 6, 4, 5, 2, 0]\n",
      "[3, 1, 6, 4, 5, 2, 0]\n"
     ]
    }
   ],
   "source": [
    "def postorderTravsersal(root):\n",
    "    res = []\n",
    "    def traverse(root):\n",
    "        if not root:\n",
    "            return\n",
    "        traverse(root.left)\n",
    "        traverse(root.right)\n",
    "        res.append(root.val)\n",
    "    traverse(root)\n",
    "    return res\n",
    "\n",
    "def postorderTravsersal2(root):\n",
    "    res = []\n",
    "    if not root:\n",
    "        return res\n",
    "    stack = []\n",
    "    p = root\n",
    "    prev = None\n",
    "    while p or stack:\n",
    "        while p:\n",
    "            stack.append(p)\n",
    "            p = p.left\n",
    "        p = stack.pop()\n",
    "        if not p.right or prev == p.right:\n",
    "            res.append(p.val)\n",
    "            prev = p\n",
    "            p = None # 关键\n",
    "        else:\n",
    "            stack.append(p)\n",
    "            p = p.right\n",
    "    return res\n",
    "\n",
    "print(postorderTravsersal(root))\n",
    "print(postorderTravsersal2(root))"
   ]
  },
  {
   "cell_type": "code",
   "execution_count": null,
   "metadata": {},
   "outputs": [],
   "source": []
  },
  {
   "cell_type": "code",
   "execution_count": 49,
   "metadata": {},
   "outputs": [
    {
     "name": "stdout",
     "output_type": "stream",
     "text": [
      "0\n",
      "in 0\n",
      "1\n"
     ]
    }
   ],
   "source": [
    "def pathsum(root, targetSum):\n",
    "    presum = res = 0\n",
    "    count = {0:1}\n",
    "    def traverse(root):\n",
    "        if not root:\n",
    "            return\n",
    "        nonlocal presum, res\n",
    "        presum += root.val\n",
    "        if presum - targetSum in count:\n",
    "            res += count[presum - targetSum] #val可能是负数，所以前面有多种可能\n",
    "        count[presum] = count.get(presum, 0) + 1\n",
    "        traverse(root.left)\n",
    "        traverse(root.right)\n",
    "        # 以下两行顺序不要搞错\n",
    "        count[presum] -= 1\n",
    "        presum -= root.val\n",
    "    traverse(root)\n",
    "    return res"
   ]
  },
  {
   "cell_type": "code",
   "execution_count": null,
   "metadata": {},
   "outputs": [],
   "source": []
  }
 ],
 "metadata": {
  "kernelspec": {
   "display_name": "base",
   "language": "python",
   "name": "python3"
  },
  "language_info": {
   "codemirror_mode": {
    "name": "ipython",
    "version": 3
   },
   "file_extension": ".py",
   "mimetype": "text/x-python",
   "name": "python",
   "nbconvert_exporter": "python",
   "pygments_lexer": "ipython3",
   "version": "3.10.9"
  }
 },
 "nbformat": 4,
 "nbformat_minor": 2
}
