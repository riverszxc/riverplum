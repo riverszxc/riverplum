{
 "cells": [
  {
   "cell_type": "code",
   "execution_count": 5,
   "metadata": {},
   "outputs": [
    {
     "name": "stdout",
     "output_type": "stream",
     "text": [
      "in 2 2 []\n",
      "in 1 2 ['(']\n",
      "in 0 2 ['(', '(']\n",
      "in 0 1 ['(', '(', ')']\n",
      "in 0 0 ['(', '(', ')', ')']\n",
      "in 1 1 ['(', ')']\n",
      "in 0 1 ['(', ')', '(']\n",
      "in 0 0 ['(', ')', '(', ')']\n",
      "['(())', '()()']\n"
     ]
    }
   ],
   "source": [
    "def generateParenthesis(n):\n",
    "    def backtrack(left, right):\n",
    "        print('in', left, right, path)\n",
    "        if left == 0 and right == 0:\n",
    "            res.append(''.join(path))\n",
    "            return\n",
    "        if left > 0:\n",
    "            path.append('(')\n",
    "            backtrack(left-1, right)\n",
    "            path.pop()\n",
    "        if left < right:\n",
    "            path.append(')')\n",
    "            backtrack(left, right-1)\n",
    "            path.pop()\n",
    "    res = []\n",
    "    path = []\n",
    "    backtrack(n, n)\n",
    "    return res\n",
    "print(generateParenthesis(2))"
   ]
  },
  {
   "cell_type": "code",
   "execution_count": null,
   "metadata": {},
   "outputs": [],
   "source": []
  }
 ],
 "metadata": {
  "kernelspec": {
   "display_name": "base",
   "language": "python",
   "name": "python3"
  },
  "language_info": {
   "codemirror_mode": {
    "name": "ipython",
    "version": 3
   },
   "file_extension": ".py",
   "mimetype": "text/x-python",
   "name": "python",
   "nbconvert_exporter": "python",
   "pygments_lexer": "ipython3",
   "version": "3.10.9"
  }
 },
 "nbformat": 4,
 "nbformat_minor": 2
}
