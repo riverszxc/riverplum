{
 "cells": [
  {
   "cell_type": "code",
   "execution_count": 9,
   "metadata": {},
   "outputs": [],
   "source": [
    "class TreeNode:\n",
    "    def __init__(self, val, left=None, right=None):\n",
    "        self.val = val\n",
    "        self.left = left\n",
    "        self.right = right\n",
    "lr = TreeNode(3)\n",
    "l = TreeNode(2, right=lr)\n",
    "r = TreeNode(1)\n",
    "h = TreeNode(0, l, r)"
   ]
  },
  {
   "cell_type": "code",
   "execution_count": 47,
   "metadata": {},
   "outputs": [
    {
     "name": "stdout",
     "output_type": "stream",
     "text": [
      "[0, 2, 3, 1]\n",
      "0\n",
      "2\n",
      "3\n",
      "1\n"
     ]
    }
   ],
   "source": [
    "def traverse(head, res):\n",
    "    if head is None:\n",
    "        return\n",
    "    res.append(head.val)\n",
    "    traverse(head.left, res)\n",
    "    traverse(head.right, res)\n",
    "\n",
    "def preorder1(head):\n",
    "    res = []\n",
    "    traverse(head, res)\n",
    "    return res\n",
    "print(preorder1(h))\n",
    "\n",
    "\n",
    "def trav(h):\n",
    "    if h is None:\n",
    "        return\n",
    "    # res.append(h.val)\n",
    "    print(h.val)\n",
    "    trav(h.left)\n",
    "    trav(h.right)\n",
    "# res=[]\n",
    "trav(h)\n",
    "# print(res)\n"
   ]
  },
  {
   "cell_type": "code",
   "execution_count": 43,
   "metadata": {},
   "outputs": [
    {
     "name": "stdout",
     "output_type": "stream",
     "text": [
      "head: 0 res: [0]\n",
      "head: 2 res: [2]\n",
      "head: 2 after left res: [2]\n",
      "head: 3 res: [3]\n",
      "head: 3 after left res: [3]\n",
      "head: 3 after right res: [3]\n",
      "head: 2 after right res: [2, 3]\n",
      "head: 0 after left res: [0, 2, 3]\n",
      "head: 1 res: [1]\n",
      "head: 1 after left res: [1]\n",
      "head: 1 after right res: [1]\n",
      "head: 0 after right res: [0, 2, 3, 1]\n",
      "[0, 2, 3, 1]\n",
      "[0, 2, 3, 1]\n"
     ]
    }
   ],
   "source": [
    "def preorder2(h):\n",
    "    res = []\n",
    "    if h is None:\n",
    "        return res\n",
    "    res.append(h.val)\n",
    "    print(\"head:\",h.val,\"res:\",res)\n",
    "    res += preorder2(h.left)\n",
    "    print(\"head:\",h.val,\"after left res:\",res)\n",
    "    res += preorder2(h.right)\n",
    "    print(\"head:\",h.val,\"after right res:\",res)\n",
    "    return res\n",
    "print(preorder2(h))\n",
    "\n",
    "def pre2(h):\n",
    "    res = []\n",
    "    if h is None:\n",
    "        return res\n",
    "    res.append(h.val)\n",
    "    res += pre2(h.left)\n",
    "    res += pre2(h.right)\n",
    "    return res\n",
    "print(pre2(h))"
   ]
  },
  {
   "cell_type": "code",
   "execution_count": 48,
   "metadata": {},
   "outputs": [
    {
     "name": "stdout",
     "output_type": "stream",
     "text": [
      "4\n"
     ]
    }
   ],
   "source": [
    "def count(h):\n",
    "    if h is None:\n",
    "        return 0\n",
    "    return 1 + count(h.left) + count(h.right)\n",
    "print(count(h))"
   ]
  },
  {
   "cell_type": "code",
   "execution_count": 53,
   "metadata": {},
   "outputs": [
    {
     "name": "stdout",
     "output_type": "stream",
     "text": [
      "0,2,#,3,#,#,1,#,#\n"
     ]
    }
   ],
   "source": [
    "def stringTree(h):\n",
    "    if h is None:\n",
    "        return '#'\n",
    "    left = stringTree(h.left)\n",
    "    right = stringTree(h.right)\n",
    "    # return left + ',' + right + ',' + str(h.val)\n",
    "    return str(h.val) + ',' + left + ',' + right\n",
    "print(stringTree(h))"
   ]
  },
  {
   "cell_type": "code",
   "execution_count": null,
   "metadata": {},
   "outputs": [],
   "source": []
  }
 ],
 "metadata": {
  "interpreter": {
   "hash": "f4fbf6ef020c60baa3052406ef6943b86d125b3e4192625c78fb422e31a0d7c6"
  },
  "kernelspec": {
   "display_name": "Python 3.9.7 64-bit (conda)",
   "language": "python",
   "name": "python3"
  },
  "language_info": {
   "codemirror_mode": {
    "name": "ipython",
    "version": 3
   },
   "file_extension": ".py",
   "mimetype": "text/x-python",
   "name": "python",
   "nbconvert_exporter": "python",
   "pygments_lexer": "ipython3",
   "version": "3.9.7"
  },
  "orig_nbformat": 4
 },
 "nbformat": 4,
 "nbformat_minor": 2
}
