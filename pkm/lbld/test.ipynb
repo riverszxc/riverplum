{
 "cells": [
  {
   "cell_type": "code",
   "execution_count": 9,
   "metadata": {},
   "outputs": [],
   "source": [
    "class TreeNode:\n",
    "    def __init__(self, val, left=None, right=None):\n",
    "        self.val = val\n",
    "        self.left = left\n",
    "        self.right = right\n",
    "lr = TreeNode(3)\n",
    "l = TreeNode(2, right=lr)\n",
    "r = TreeNode(1)\n",
    "h = TreeNode(0, l, r)"
   ]
  },
  {
   "cell_type": "code",
   "execution_count": 47,
   "metadata": {},
   "outputs": [
    {
     "name": "stdout",
     "output_type": "stream",
     "text": [
      "[0, 2, 3, 1]\n",
      "0\n",
      "2\n",
      "3\n",
      "1\n"
     ]
    }
   ],
   "source": [
    "def traverse(head, res):\n",
    "    if head is None:\n",
    "        return\n",
    "    res.append(head.val)\n",
    "    traverse(head.left, res)\n",
    "    traverse(head.right, res)\n",
    "\n",
    "def preorder1(head):\n",
    "    res = []\n",
    "    traverse(head, res)\n",
    "    return res\n",
    "print(preorder1(h))\n",
    "\n",
    "\n",
    "def trav(h):\n",
    "    if h is None:\n",
    "        return\n",
    "    # res.append(h.val)\n",
    "    print(h.val)\n",
    "    trav(h.left)\n",
    "    trav(h.right)\n",
    "# res=[]\n",
    "trav(h)\n",
    "# print(res)\n"
   ]
  },
  {
   "cell_type": "code",
   "execution_count": 43,
   "metadata": {},
   "outputs": [
    {
     "name": "stdout",
     "output_type": "stream",
     "text": [
      "head: 0 res: [0]\n",
      "head: 2 res: [2]\n",
      "head: 2 after left res: [2]\n",
      "head: 3 res: [3]\n",
      "head: 3 after left res: [3]\n",
      "head: 3 after right res: [3]\n",
      "head: 2 after right res: [2, 3]\n",
      "head: 0 after left res: [0, 2, 3]\n",
      "head: 1 res: [1]\n",
      "head: 1 after left res: [1]\n",
      "head: 1 after right res: [1]\n",
      "head: 0 after right res: [0, 2, 3, 1]\n",
      "[0, 2, 3, 1]\n",
      "[0, 2, 3, 1]\n"
     ]
    }
   ],
   "source": [
    "def preorder2(h):\n",
    "    res = []\n",
    "    if h is None:\n",
    "        return res\n",
    "    res.append(h.val)\n",
    "    print(\"head:\",h.val,\"res:\",res)\n",
    "    res += preorder2(h.left)\n",
    "    print(\"head:\",h.val,\"after left res:\",res)\n",
    "    res += preorder2(h.right)\n",
    "    print(\"head:\",h.val,\"after right res:\",res)\n",
    "    return res\n",
    "print(preorder2(h))\n",
    "\n",
    "def pre2(h):\n",
    "    res = []\n",
    "    if h is None:\n",
    "        return res\n",
    "    res.append(h.val)\n",
    "    res += pre2(h.left)\n",
    "    res += pre2(h.right)\n",
    "    return res\n",
    "print(pre2(h))"
   ]
  },
  {
   "cell_type": "code",
   "execution_count": 48,
   "metadata": {},
   "outputs": [
    {
     "name": "stdout",
     "output_type": "stream",
     "text": [
      "4\n"
     ]
    }
   ],
   "source": [
    "def count(h):\n",
    "    if h is None:\n",
    "        return 0\n",
    "    return 1 + count(h.left) + count(h.right)\n",
    "print(count(h))"
   ]
  },
  {
   "cell_type": "code",
   "execution_count": 53,
   "metadata": {},
   "outputs": [
    {
     "name": "stdout",
     "output_type": "stream",
     "text": [
      "0,2,#,3,#,#,1,#,#\n"
     ]
    }
   ],
   "source": [
    "def stringTree(h):\n",
    "    if h is None:\n",
    "        return '#'\n",
    "    left = stringTree(h.left)\n",
    "    right = stringTree(h.right)\n",
    "    # return left + ',' + right + ',' + str(h.val)\n",
    "    return str(h.val) + ',' + left + ',' + right\n",
    "print(stringTree(h))"
   ]
  },
  {
   "cell_type": "code",
   "execution_count": 11,
   "metadata": {},
   "outputs": [],
   "source": [
    "select = []\n",
    "select.append(1)\n",
    "select.append(2)\n",
    "select\n",
    "sel = select"
   ]
  },
  {
   "cell_type": "code",
   "execution_count": 13,
   "metadata": {},
   "outputs": [],
   "source": [
    "sel\n",
    "sel.remove(2)"
   ]
  },
  {
   "cell_type": "code",
   "execution_count": 15,
   "metadata": {},
   "outputs": [
    {
     "data": {
      "text/plain": [
       "[1]"
      ]
     },
     "execution_count": 15,
     "metadata": {},
     "output_type": "execute_result"
    }
   ],
   "source": [
    "sel"
   ]
  },
  {
   "cell_type": "code",
   "execution_count": 11,
   "metadata": {},
   "outputs": [
    {
     "name": "stdout",
     "output_type": "stream",
     "text": [
      "['..........', '..........', '..........', '..........', '..........', '..........', '..........', '..........', '..........', '..........']\n",
      "[['.', '.', '.', '.', '.', '.', '.', '.', '.', '.'], ['.', '.', '.', '.', '.', '.', '.', '.', '.', '.'], ['.', '.', '.', '.', '.', '.', '.', '.', '.', '.'], ['.', '.', '.', '.', '.', '.', '.', '.', '.', '.'], ['.', '.', '.', '.', '.', '.', '.', '.', '.', '.'], ['.', '.', '.', '.', '.', '.', '.', '.', '.', '.'], ['.', '.', '.', '.', '.', '.', '.', '.', '.', '.'], ['.', '.', '.', '.', '.', '.', '.', '.', '.', '.'], ['.', '.', '.', '.', '.', '.', '.', '.', '.', '.'], ['.', '.', '.', '.', '.', '.', '.', '.', '.', '.']]\n"
     ]
    },
    {
     "data": {
      "text/plain": [
       "['..........',\n",
       " '..........',\n",
       " '..........',\n",
       " '..........',\n",
       " '..........',\n",
       " '..........',\n",
       " '..........',\n",
       " '..........',\n",
       " '..........',\n",
       " '..........']"
      ]
     },
     "execution_count": 11,
     "metadata": {},
     "output_type": "execute_result"
    }
   ],
   "source": [
    "a = ['.'*10 for x in range(10)]\n",
    "b = [['.'] * 10 for x in range(10)]\n",
    "print(a)\n",
    "print(b)\n",
    "[''.join(x) for x in b]\n"
   ]
  },
  {
   "cell_type": "code",
   "execution_count": 13,
   "metadata": {},
   "outputs": [
    {
     "name": "stdout",
     "output_type": "stream",
     "text": [
      "[3, 1, 5, 2]\n",
      "[1, 2, 3, 5]\n"
     ]
    }
   ],
   "source": [
    "a=[3,1,5,2]\n",
    "print(a)\n",
    "a.sort()\n",
    "print(a)"
   ]
  },
  {
   "cell_type": "code",
   "execution_count": 14,
   "metadata": {},
   "outputs": [
    {
     "data": {
      "text/plain": [
       "{1, 2, 3, 5}"
      ]
     },
     "execution_count": 14,
     "metadata": {},
     "output_type": "execute_result"
    }
   ],
   "source": [
    "set(a)"
   ]
  },
  {
   "cell_type": "code",
   "execution_count": 16,
   "metadata": {},
   "outputs": [
    {
     "name": "stdout",
     "output_type": "stream",
     "text": [
      "{1, 2, 3, 5}\n",
      "{1, 2, 3, 5, 8}\n"
     ]
    }
   ],
   "source": [
    "s = set(a)\n",
    "print(s)\n",
    "s.add(8)\n",
    "print(s)"
   ]
  },
  {
   "cell_type": "code",
   "execution_count": 19,
   "metadata": {},
   "outputs": [
    {
     "name": "stdout",
     "output_type": "stream",
     "text": [
      "[9, 2, 3, 5]\n",
      "[9, 2, 3, 5]\n",
      "[8, 2, 3, 5]\n"
     ]
    }
   ],
   "source": [
    "b=a[:]\n",
    "print(a)\n",
    "b[0]=8\n",
    "print(a)\n",
    "print(b)"
   ]
  },
  {
   "cell_type": "code",
   "execution_count": 1,
   "metadata": {},
   "outputs": [
    {
     "data": {
      "text/plain": [
       "''"
      ]
     },
     "execution_count": 1,
     "metadata": {},
     "output_type": "execute_result"
    }
   ],
   "source": [
    "s = 'abc'\n",
    "s[0:0]"
   ]
  },
  {
   "cell_type": "code",
   "execution_count": 2,
   "metadata": {},
   "outputs": [
    {
     "data": {
      "text/plain": [
       "29"
      ]
     },
     "execution_count": 2,
     "metadata": {},
     "output_type": "execute_result"
    }
   ],
   "source": [
    "len('trinitrophenylmethylnitramine')"
   ]
  },
  {
   "cell_type": "code",
   "execution_count": 3,
   "metadata": {},
   "outputs": [
    {
     "data": {
      "text/plain": [
       "12"
      ]
     },
     "execution_count": 3,
     "metadata": {},
     "output_type": "execute_result"
    }
   ],
   "source": [
    "len(set('trinitrophenylmethylnitramine'))"
   ]
  },
  {
   "cell_type": "code",
   "execution_count": 4,
   "metadata": {},
   "outputs": [
    {
     "data": {
      "text/plain": [
       "51"
      ]
     },
     "execution_count": 4,
     "metadata": {},
     "output_type": "execute_result"
    }
   ],
   "source": [
    "len('dinitrophenylhydrazinetrinitrophenylmethylnitramine')"
   ]
  },
  {
   "cell_type": "code",
   "execution_count": 5,
   "metadata": {},
   "outputs": [
    {
     "data": {
      "text/plain": [
       "[[[0, 0], [0, 0], [0, 0], [0, 0]],\n",
       " [[0, 0], [0, 0], [0, 0], [0, 0]],\n",
       " [[0, 0], [0, 0], [0, 0], [0, 0]],\n",
       " [[0, 0], [0, 0], [0, 0], [0, 0]],\n",
       " [[0, 0], [0, 0], [0, 0], [0, 0]]]"
      ]
     },
     "execution_count": 5,
     "metadata": {},
     "output_type": "execute_result"
    }
   ],
   "source": [
    "k=3\n",
    "prices = [1,2,3,4]\n",
    "dp = [[[0] * 2 for x in range(k+1)] for y in range(len(prices)+1)]\n",
    "dp"
   ]
  },
  {
   "cell_type": "code",
   "execution_count": 19,
   "metadata": {},
   "outputs": [
    {
     "data": {
      "text/plain": [
       "[10, 9, 8, 7, 6, 5, 4, 3, 2, 1]"
      ]
     },
     "execution_count": 19,
     "metadata": {},
     "output_type": "execute_result"
    },
    {
     "ename": "",
     "evalue": "",
     "output_type": "error",
     "traceback": [
      "The Kernel crashed while executing code in the the current cell or a previous cell. Please review the code in the cell(s) to identify a possible cause of the failure. Click <a href='https://aka.ms/vscodeJupyterKernelCrash'>here</a> for more info. View Jupyter <a href='command:jupyter.viewOutput'>log</a> for further details."
     ]
    }
   ],
   "source": [
    "[x for x in range(10,0, -1)]"
   ]
  },
  {
   "cell_type": "code",
   "execution_count": 2,
   "metadata": {},
   "outputs": [
    {
     "name": "stdout",
     "output_type": "stream",
     "text": [
      "-inf\n",
      "-inf\n",
      "True\n"
     ]
    }
   ],
   "source": [
    "a = float('-inf')\n",
    "print(a)\n",
    "b = -float('inf')\n",
    "print(b)\n",
    "print(a==b)"
   ]
  },
  {
   "cell_type": "code",
   "execution_count": null,
   "metadata": {},
   "outputs": [],
   "source": []
  }
 ],
 "metadata": {
  "interpreter": {
   "hash": "12aba83aff89421f168fa583bb93d662fa8cc7037f99dc2ee3422f0514abaef3"
  },
  "kernelspec": {
   "display_name": "Python 3.9.7",
   "language": "python",
   "name": "python3"
  },
  "language_info": {
   "codemirror_mode": {
    "name": "ipython",
    "version": 3
   },
   "file_extension": ".py",
   "mimetype": "text/x-python",
   "name": "python",
   "nbconvert_exporter": "python",
   "pygments_lexer": "ipython3",
   "version": "3.9.7"
  },
  "orig_nbformat": 4
 },
 "nbformat": 4,
 "nbformat_minor": 2
}
