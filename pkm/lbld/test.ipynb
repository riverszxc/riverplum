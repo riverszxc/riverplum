{
 "cells": [
  {
   "cell_type": "code",
   "execution_count": 9,
   "metadata": {},
   "outputs": [],
   "source": [
    "class TreeNode:\n",
    "    def __init__(self, val, left=None, right=None):\n",
    "        self.val = val\n",
    "        self.left = left\n",
    "        self.right = right\n",
    "lr = TreeNode(3)\n",
    "l = TreeNode(2, right=lr)\n",
    "r = TreeNode(1)\n",
    "h = TreeNode(0, l, r)"
   ]
  },
  {
   "cell_type": "code",
   "execution_count": 47,
   "metadata": {},
   "outputs": [
    {
     "name": "stdout",
     "output_type": "stream",
     "text": [
      "[0, 2, 3, 1]\n",
      "0\n",
      "2\n",
      "3\n",
      "1\n"
     ]
    }
   ],
   "source": [
    "def traverse(head, res):\n",
    "    if head is None:\n",
    "        return\n",
    "    res.append(head.val)\n",
    "    traverse(head.left, res)\n",
    "    traverse(head.right, res)\n",
    "\n",
    "def preorder1(head):\n",
    "    res = []\n",
    "    traverse(head, res)\n",
    "    return res\n",
    "print(preorder1(h))\n",
    "\n",
    "\n",
    "def trav(h):\n",
    "    if h is None:\n",
    "        return\n",
    "    # res.append(h.val)\n",
    "    print(h.val)\n",
    "    trav(h.left)\n",
    "    trav(h.right)\n",
    "# res=[]\n",
    "trav(h)\n",
    "# print(res)\n"
   ]
  },
  {
   "cell_type": "code",
   "execution_count": 43,
   "metadata": {},
   "outputs": [
    {
     "name": "stdout",
     "output_type": "stream",
     "text": [
      "head: 0 res: [0]\n",
      "head: 2 res: [2]\n",
      "head: 2 after left res: [2]\n",
      "head: 3 res: [3]\n",
      "head: 3 after left res: [3]\n",
      "head: 3 after right res: [3]\n",
      "head: 2 after right res: [2, 3]\n",
      "head: 0 after left res: [0, 2, 3]\n",
      "head: 1 res: [1]\n",
      "head: 1 after left res: [1]\n",
      "head: 1 after right res: [1]\n",
      "head: 0 after right res: [0, 2, 3, 1]\n",
      "[0, 2, 3, 1]\n",
      "[0, 2, 3, 1]\n"
     ]
    }
   ],
   "source": [
    "def preorder2(h):\n",
    "    res = []\n",
    "    if h is None:\n",
    "        return res\n",
    "    res.append(h.val)\n",
    "    print(\"head:\",h.val,\"res:\",res)\n",
    "    res += preorder2(h.left)\n",
    "    print(\"head:\",h.val,\"after left res:\",res)\n",
    "    res += preorder2(h.right)\n",
    "    print(\"head:\",h.val,\"after right res:\",res)\n",
    "    return res\n",
    "print(preorder2(h))\n",
    "\n",
    "def pre2(h):\n",
    "    res = []\n",
    "    if h is None:\n",
    "        return res\n",
    "    res.append(h.val)\n",
    "    res += pre2(h.left)\n",
    "    res += pre2(h.right)\n",
    "    return res\n",
    "print(pre2(h))"
   ]
  },
  {
   "cell_type": "code",
   "execution_count": 48,
   "metadata": {},
   "outputs": [
    {
     "name": "stdout",
     "output_type": "stream",
     "text": [
      "4\n"
     ]
    }
   ],
   "source": [
    "def count(h):\n",
    "    if h is None:\n",
    "        return 0\n",
    "    return 1 + count(h.left) + count(h.right)\n",
    "print(count(h))"
   ]
  },
  {
   "cell_type": "code",
   "execution_count": 53,
   "metadata": {},
   "outputs": [
    {
     "name": "stdout",
     "output_type": "stream",
     "text": [
      "0,2,#,3,#,#,1,#,#\n"
     ]
    }
   ],
   "source": [
    "def stringTree(h):\n",
    "    if h is None:\n",
    "        return '#'\n",
    "    left = stringTree(h.left)\n",
    "    right = stringTree(h.right)\n",
    "    # return left + ',' + right + ',' + str(h.val)\n",
    "    return str(h.val) + ',' + left + ',' + right\n",
    "print(stringTree(h))"
   ]
  },
  {
   "cell_type": "code",
   "execution_count": 11,
   "metadata": {},
   "outputs": [],
   "source": [
    "select = []\n",
    "select.append(1)\n",
    "select.append(2)\n",
    "select\n",
    "sel = select"
   ]
  },
  {
   "cell_type": "code",
   "execution_count": 13,
   "metadata": {},
   "outputs": [],
   "source": [
    "sel\n",
    "sel.remove(2)"
   ]
  },
  {
   "cell_type": "code",
   "execution_count": 15,
   "metadata": {},
   "outputs": [
    {
     "data": {
      "text/plain": [
       "[1]"
      ]
     },
     "execution_count": 15,
     "metadata": {},
     "output_type": "execute_result"
    }
   ],
   "source": [
    "sel"
   ]
  },
  {
   "cell_type": "code",
   "execution_count": 11,
   "metadata": {},
   "outputs": [
    {
     "name": "stdout",
     "output_type": "stream",
     "text": [
      "['..........', '..........', '..........', '..........', '..........', '..........', '..........', '..........', '..........', '..........']\n",
      "[['.', '.', '.', '.', '.', '.', '.', '.', '.', '.'], ['.', '.', '.', '.', '.', '.', '.', '.', '.', '.'], ['.', '.', '.', '.', '.', '.', '.', '.', '.', '.'], ['.', '.', '.', '.', '.', '.', '.', '.', '.', '.'], ['.', '.', '.', '.', '.', '.', '.', '.', '.', '.'], ['.', '.', '.', '.', '.', '.', '.', '.', '.', '.'], ['.', '.', '.', '.', '.', '.', '.', '.', '.', '.'], ['.', '.', '.', '.', '.', '.', '.', '.', '.', '.'], ['.', '.', '.', '.', '.', '.', '.', '.', '.', '.'], ['.', '.', '.', '.', '.', '.', '.', '.', '.', '.']]\n"
     ]
    },
    {
     "data": {
      "text/plain": [
       "['..........',\n",
       " '..........',\n",
       " '..........',\n",
       " '..........',\n",
       " '..........',\n",
       " '..........',\n",
       " '..........',\n",
       " '..........',\n",
       " '..........',\n",
       " '..........']"
      ]
     },
     "execution_count": 11,
     "metadata": {},
     "output_type": "execute_result"
    }
   ],
   "source": [
    "a = ['.'*10 for x in range(10)]\n",
    "b = [['.'] * 10 for x in range(10)]\n",
    "print(a)\n",
    "print(b)\n",
    "[''.join(x) for x in b]\n"
   ]
  },
  {
   "cell_type": "code",
   "execution_count": 13,
   "metadata": {},
   "outputs": [
    {
     "name": "stdout",
     "output_type": "stream",
     "text": [
      "[3, 1, 5, 2]\n",
      "[1, 2, 3, 5]\n"
     ]
    }
   ],
   "source": [
    "a=[3,1,5,2]\n",
    "print(a)\n",
    "a.sort()\n",
    "print(a)"
   ]
  },
  {
   "cell_type": "code",
   "execution_count": 14,
   "metadata": {},
   "outputs": [
    {
     "data": {
      "text/plain": [
       "{1, 2, 3, 5}"
      ]
     },
     "execution_count": 14,
     "metadata": {},
     "output_type": "execute_result"
    }
   ],
   "source": [
    "set(a)"
   ]
  },
  {
   "cell_type": "code",
   "execution_count": 16,
   "metadata": {},
   "outputs": [
    {
     "name": "stdout",
     "output_type": "stream",
     "text": [
      "{1, 2, 3, 5}\n",
      "{1, 2, 3, 5, 8}\n"
     ]
    }
   ],
   "source": [
    "s = set(a)\n",
    "print(s)\n",
    "s.add(8)\n",
    "print(s)"
   ]
  },
  {
   "cell_type": "code",
   "execution_count": 19,
   "metadata": {},
   "outputs": [
    {
     "name": "stdout",
     "output_type": "stream",
     "text": [
      "[9, 2, 3, 5]\n",
      "[9, 2, 3, 5]\n",
      "[8, 2, 3, 5]\n"
     ]
    }
   ],
   "source": [
    "b=a[:]\n",
    "print(a)\n",
    "b[0]=8\n",
    "print(a)\n",
    "print(b)"
   ]
  },
  {
   "cell_type": "code",
   "execution_count": 1,
   "metadata": {},
   "outputs": [
    {
     "data": {
      "text/plain": [
       "''"
      ]
     },
     "execution_count": 1,
     "metadata": {},
     "output_type": "execute_result"
    }
   ],
   "source": [
    "s = 'abc'\n",
    "s[0:0]"
   ]
  },
  {
   "cell_type": "code",
   "execution_count": 2,
   "metadata": {},
   "outputs": [
    {
     "data": {
      "text/plain": [
       "29"
      ]
     },
     "execution_count": 2,
     "metadata": {},
     "output_type": "execute_result"
    }
   ],
   "source": [
    "len('trinitrophenylmethylnitramine')"
   ]
  },
  {
   "cell_type": "code",
   "execution_count": 3,
   "metadata": {},
   "outputs": [
    {
     "data": {
      "text/plain": [
       "12"
      ]
     },
     "execution_count": 3,
     "metadata": {},
     "output_type": "execute_result"
    }
   ],
   "source": [
    "len(set('trinitrophenylmethylnitramine'))"
   ]
  },
  {
   "cell_type": "code",
   "execution_count": 4,
   "metadata": {},
   "outputs": [
    {
     "data": {
      "text/plain": [
       "51"
      ]
     },
     "execution_count": 4,
     "metadata": {},
     "output_type": "execute_result"
    }
   ],
   "source": [
    "len('dinitrophenylhydrazinetrinitrophenylmethylnitramine')"
   ]
  },
  {
   "cell_type": "code",
   "execution_count": 5,
   "metadata": {},
   "outputs": [
    {
     "data": {
      "text/plain": [
       "[[[0, 0], [0, 0], [0, 0], [0, 0]],\n",
       " [[0, 0], [0, 0], [0, 0], [0, 0]],\n",
       " [[0, 0], [0, 0], [0, 0], [0, 0]],\n",
       " [[0, 0], [0, 0], [0, 0], [0, 0]],\n",
       " [[0, 0], [0, 0], [0, 0], [0, 0]]]"
      ]
     },
     "execution_count": 5,
     "metadata": {},
     "output_type": "execute_result"
    }
   ],
   "source": [
    "k=3\n",
    "prices = [1,2,3,4]\n",
    "dp = [[[0] * 2 for x in range(k+1)] for y in range(len(prices)+1)]\n",
    "dp"
   ]
  },
  {
   "cell_type": "code",
   "execution_count": 19,
   "metadata": {},
   "outputs": [
    {
     "data": {
      "text/plain": [
       "[10, 9, 8, 7, 6, 5, 4, 3, 2, 1]"
      ]
     },
     "execution_count": 19,
     "metadata": {},
     "output_type": "execute_result"
    },
    {
     "ename": "",
     "evalue": "",
     "output_type": "error",
     "traceback": [
      "The Kernel crashed while executing code in the the current cell or a previous cell. Please review the code in the cell(s) to identify a possible cause of the failure. Click <a href='https://aka.ms/vscodeJupyterKernelCrash'>here</a> for more info. View Jupyter <a href='command:jupyter.viewOutput'>log</a> for further details."
     ]
    }
   ],
   "source": [
    "[x for x in range(10,0, -1)]"
   ]
  },
  {
   "cell_type": "code",
   "execution_count": 2,
   "metadata": {},
   "outputs": [
    {
     "name": "stdout",
     "output_type": "stream",
     "text": [
      "-inf\n",
      "-inf\n",
      "True\n"
     ]
    }
   ],
   "source": [
    "a = float('-inf')\n",
    "print(a)\n",
    "b = -float('inf')\n",
    "print(b)\n",
    "print(a==b)"
   ]
  },
  {
   "cell_type": "code",
   "execution_count": 20,
   "metadata": {},
   "outputs": [
    {
     "name": "stdout",
     "output_type": "stream",
     "text": [
      "[1]\n"
     ]
    }
   ],
   "source": [
    "import random\n",
    "def sortarray(nums):\n",
    "    def quicksort(l, r):\n",
    "        if l >= r:\n",
    "            return\n",
    "        def partition(l, r):\n",
    "            t = random.randint(l, r)\n",
    "            nums[t], nums[r] = nums[r], nums[t]\n",
    "            i = l - 1\n",
    "            for x in range(l, r):\n",
    "                if nums[x] < nums[r]:\n",
    "                    i += 1\n",
    "                    nums[x], nums[i] = nums[i], nums[x]\n",
    "            i += 1\n",
    "            nums[i], nums[r] = nums[r], nums[i]\n",
    "            return i\n",
    "        p = partition(l, r)\n",
    "        quicksort(l, p-1)\n",
    "        quicksort(p+1, r)\n",
    "    quicksort(0, len(nums)-1)\n",
    "nums = [4,1,6,3,2]\n",
    "nums = [1,2,3,4,5]\n",
    "nums = [1,1,1,1]\n",
    "nums = []\n",
    "nums = [1]\n",
    "nums = [4,3,2,1]\n",
    "sortarray(nums)\n",
    "print(nums)"
   ]
  },
  {
   "cell_type": "code",
   "execution_count": 21,
   "metadata": {},
   "outputs": [
    {
     "name": "stdout",
     "output_type": "stream",
     "text": [
      "[1, 2, 3, 4]\n"
     ]
    }
   ],
   "source": [
    "def sortarray(nums):\n",
    "    tmp = nums[:]\n",
    "    def mergesort(l, r):\n",
    "        if l >= r:\n",
    "            return\n",
    "        mid = l + (r - l) // 2\n",
    "        mergesort(l, mid)\n",
    "        mergesort(mid+1, r)\n",
    "        x, i, j = l, l, mid+1\n",
    "        while i <= mid or j <= r:\n",
    "            if j > r or (i <= mid and nums[i] <= nums[j]):\n",
    "                tmp[x] = nums[i]\n",
    "                i += 1\n",
    "            else:\n",
    "                tmp[x] = nums[j]\n",
    "                j += 1\n",
    "            x += 1\n",
    "        nums[l:r+1] = tmp[l:r+1]\n",
    "    mergesort(0, len(nums)-1)\n",
    "nums = [4,1,6,3,2]\n",
    "nums = [1,2,3,4,5]\n",
    "nums = [1,1,1,1]\n",
    "nums = []\n",
    "nums = [1]\n",
    "nums = [4,3,2,1]\n",
    "sortarray(nums)\n",
    "print(nums)\n"
   ]
  },
  {
   "cell_type": "code",
   "execution_count": 29,
   "metadata": {},
   "outputs": [
    {
     "name": "stdout",
     "output_type": "stream",
     "text": [
      "[6, 3, 4, 1, 2]\n",
      "[1, 2, 3, 4, 6]\n"
     ]
    }
   ],
   "source": [
    "def sortarray(nums):\n",
    "    def heapsort():\n",
    "        def buildheap():\n",
    "            for i in range(len(nums)-1, -1, -1):\n",
    "                maxheapify(i, len(nums)-1)\n",
    "        def maxheapify(start, end):\n",
    "            i = start\n",
    "            while i * 2 + 1 <= end:\n",
    "                l, r = i*2+1, i*2+2\n",
    "                next = r if r <= end and nums[r] > nums[l] else l\n",
    "                if nums[i] < nums[next]:\n",
    "                    nums[i], nums[next] = nums[next], nums[i]\n",
    "                    i = next\n",
    "                else:\n",
    "                    break\n",
    "        buildheap()\n",
    "        print(nums)\n",
    "        for i in range(len(nums)-1, -1, -1):\n",
    "            nums[0], nums[i] = nums[i], nums[0]\n",
    "            maxheapify(0, i-1)\n",
    "    heapsort()\n",
    "nums = [4,1,6,3,2]\n",
    "nums = [1,2,3,4,5]\n",
    "nums = [1,1,1,1]\n",
    "nums = []\n",
    "nums = [1]\n",
    "nums = [4,3,2,1]\n",
    "sortarray(nums)\n",
    "print(nums)\n",
    "                    \n"
   ]
  },
  {
   "cell_type": "code",
   "execution_count": 31,
   "metadata": {},
   "outputs": [
    {
     "data": {
      "text/plain": [
       "[0, 0, 0]"
      ]
     },
     "execution_count": 31,
     "metadata": {},
     "output_type": "execute_result"
    }
   ],
   "source": [
    "def lengthOfLIS(self, nums: List[int]) -> int:\n",
    "    n = len(nums)\n",
    "    dp = [0] * (n+1)\n",
    "    for i in range(1, n+1):\n",
    "        for j in range(1,i):\n",
    "            if nums[i-1] > nums[j-1]:\n",
    "                dp[i] = max(dp[i], dp[j]+1)\n",
    "    return dp[n]"
   ]
  },
  {
   "cell_type": "code",
   "execution_count": 33,
   "metadata": {},
   "outputs": [
    {
     "name": "stdout",
     "output_type": "stream",
     "text": [
      "2\n"
     ]
    }
   ],
   "source": [
    "def minInsertions(s: str) -> int:\n",
    "        f = s[::-1]\n",
    "        n = len(s)\n",
    "        dp = [[0] * (n+1) for _ in range(n+1)]\n",
    "        for i in range(1, n+1):\n",
    "            for j in range(1, n+1):\n",
    "                if s[i-1] == f[j-1]:\n",
    "                    dp[i][j] = dp[i-1][j-1] + 1\n",
    "                else:\n",
    "                    dp[i][j] = max(dp[i-1][j], dp[i][j-1])\n",
    "        return n - dp[n][n]\n",
    "print(minInsertions('abc'))"
   ]
  },
  {
   "cell_type": "code",
   "execution_count": 21,
   "metadata": {},
   "outputs": [
    {
     "name": "stdout",
     "output_type": "stream",
     "text": [
      "6\n"
     ]
    }
   ],
   "source": [
    "def test(s):\n",
    "\tres = 0\n",
    "\tif not s:\n",
    "\t\treturn res\n",
    "\tq = []\n",
    "\ti = 0\n",
    "\ttmp_res = 0\n",
    "\ti = 0\n",
    "\twhile i < len(s):\n",
    "\t\tif s[i] == '(':\n",
    "\t\t\tq.append(s[i])\n",
    "\t\telse:\n",
    "\t\t\tif q and q[-1] == '(':\n",
    "\t\t\t\ttmp_res += 2\n",
    "\t\t\t\tres = max(res, tmp_res)\n",
    "\t\t\t\tq.pop()\n",
    "\t\t\telse:\n",
    "\t\t\t\ttmp_res = 0\n",
    "\t\ti += 1\n",
    "\treturn res\n",
    "print(test('())()(())'))"
   ]
  },
  {
   "cell_type": "code",
   "execution_count": null,
   "metadata": {},
   "outputs": [],
   "source": [
    "l = -y*logq - (1-y)*log(1-q)\n",
    "q = 1 / (1 + e**(-z))\n",
    "dqdz = q * (1-q)\n",
    "dldq = -y/q + (1-y)/(1-q)\n",
    "dldz = -y * (1-q) + (1-y) * q\n",
    "dldz = q - y\n",
    "dldw = (q - y) * x \n"
   ]
  }
 ],
 "metadata": {
  "kernelspec": {
   "display_name": "Python 3.8.2 64-bit",
   "language": "python",
   "name": "python3"
  },
  "language_info": {
   "codemirror_mode": {
    "name": "ipython",
    "version": 3
   },
   "file_extension": ".py",
   "mimetype": "text/x-python",
   "name": "python",
   "nbconvert_exporter": "python",
   "pygments_lexer": "ipython3",
   "version": "3.8.2"
  },
  "orig_nbformat": 4,
  "vscode": {
   "interpreter": {
    "hash": "31f2aee4e71d21fbe5cf8b01ff0e069b9275f58929596ceb00d14d90e3e16cd6"
   }
  }
 },
 "nbformat": 4,
 "nbformat_minor": 2
}
