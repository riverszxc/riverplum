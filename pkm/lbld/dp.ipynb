{
 "cells": [
  {
   "cell_type": "code",
   "execution_count": 16,
   "metadata": {},
   "outputs": [
    {
     "name": "stdout",
     "output_type": "stream",
     "text": [
      "[1, 1, 1, 2, 2, 3, 4, 4]\n"
     ]
    }
   ],
   "source": [
    "def lengthOfLongestIncreasingSubsequence(nums):\n",
    "    dp = [1] * len(nums)\n",
    "    for i in range(len(nums)):\n",
    "        for j in range(i):\n",
    "            if nums[i] > nums[j]:\n",
    "                dp[i] = max(dp[i], dp[j]+1)\n",
    "    print(dp)\n",
    "lengthOfLongestIncreasingSubsequence([10,9,2,5,3,7,101,18])"
   ]
  },
  {
   "cell_type": "code",
   "execution_count": 17,
   "metadata": {},
   "outputs": [
    {
     "name": "stdout",
     "output_type": "stream",
     "text": [
      "[[0, 0, 0, 0, 0], [0, 0, 4, 4, 4], [0, 2, 4, 6, 6], [0, 2, 4, 6, 6]]\n",
      "6\n"
     ]
    }
   ],
   "source": [
    "def knapsack(w, n, weights, values):\n",
    "    # dp = [[0]*(w+1)]*(n+1) # wrong init\n",
    "    dp = [[0]*(w+1) for row in range(n+1)]\n",
    "    # print(dp)\n",
    "    for i in range(1, n+1):\n",
    "        # print(\"i=\",i)\n",
    "        for j in range(1, w+1):\n",
    "            # print(\"j=\",j)\n",
    "            if j < weights[i-1]:\n",
    "                dp[i][j] = dp[i-1][j]\n",
    "            else:\n",
    "                dp[i][j] = max(dp[i-1][j], dp[i-1][j-weights[i-1]]+values[i-1])\n",
    "            # print(dp)\n",
    "    print(dp)\n",
    "    print(dp[n][w])\n",
    "knapsack(4, 3, [2,1,3], [4,2,3])"
   ]
  },
  {
   "cell_type": "code",
   "execution_count": 53,
   "metadata": {},
   "outputs": [
    {
     "name": "stdout",
     "output_type": "stream",
     "text": [
      "4\n"
     ]
    }
   ],
   "source": [
    "def change(amount, coins):\n",
    "    # dp[coins][amount]\n",
    "    dp = [[0] * (amount + 1) for x in range(len(coins)+1)]\n",
    "    for x in dp:\n",
    "        x[0] = 1\n",
    "    # print(dp)\n",
    "    for i in range(1, len(coins)+1):\n",
    "        for j in range(1, amount + 1):\n",
    "            if j >= coins[i-1]:\n",
    "                dp[i][j] = dp[i-1][j] + dp[i][j-coins[i-1]]\n",
    "            else:\n",
    "                dp[i][j] = dp[i-1][j]\n",
    "            # print(i, j, coins[:i], dp)\n",
    "    print(dp[len(coins)][amount])\n",
    "def changeOPT(amount, coins):\n",
    "    dp = [0] * (amount + 1)\n",
    "    dp[0] = 1\n",
    "    for i in range(len(coins)):\n",
    "        for j in range(1, amount+1):\n",
    "            if j >= coins[i]:\n",
    "                dp[j] = dp[j] + dp[j - coins[i]]\n",
    "    print(dp[amount])\n",
    "\n",
    "changeOPT(5, [1,2,5])"
   ]
  },
  {
   "cell_type": "code",
   "execution_count": 76,
   "metadata": {},
   "outputs": [
    {
     "name": "stdout",
     "output_type": "stream",
     "text": [
      "28\n"
     ]
    },
    {
     "data": {
      "text/plain": [
       "False"
      ]
     },
     "execution_count": 76,
     "metadata": {},
     "output_type": "execute_result"
    }
   ],
   "source": [
    "def canPartition(nums):\n",
    "    s = sum(nums)\n",
    "    print(s)\n",
    "    if s%2 != 0:\n",
    "        return False\n",
    "    s = int(s/2)\n",
    "    dp = [[False]*(s+1) for x in range(len(nums)+1)]\n",
    "    for x in dp:\n",
    "        x[0] = True\n",
    "    # print(dp)\n",
    "    for i in range(1, len(nums)+1):\n",
    "        for j in range(1, s+1):\n",
    "            if nums[i-1] > j:\n",
    "                dp[i][j] = dp[i-1][j]\n",
    "            else:\n",
    "                dp[i][j] = dp[i-1][j] or dp[i-1][j-nums[i-1]]\n",
    "    return dp[len(nums)][s]\n",
    "\n",
    "def canPartitionOPT(nums):\n",
    "    s = sum(nums)\n",
    "    # print(s)\n",
    "    if s%2 != 0:\n",
    "        return False\n",
    "    s = int(s/2)\n",
    "    # dp = [[False]*(s+1) for x in range(len(nums)+1)]\n",
    "    dp = [False] * (s+1)\n",
    "    dp[0] = True\n",
    "    # for x in dp:\n",
    "    #     x[0] = True\n",
    "    print(dp)\n",
    "    for i in range(1, len(nums)+1):\n",
    "        for j in range(1, s+1):\n",
    "            # if nums[i-1] > j:\n",
    "            #     dp[i][j] = dp[i-1][j]\n",
    "            # else:\n",
    "            #     dp[i][j] = dp[i-1][j] or dp[i-1][j-nums[i-1]]\n",
    "            dp[j] = dp[j] or dp[j-nums[i-1]]\n",
    "    return dp[s]\n",
    "\n",
    "n = [1,5,11,7]\n",
    "# n = [1,2,3,5]\n",
    "canPartitionOPT(n)"
   ]
  },
  {
   "cell_type": "code",
   "execution_count": null,
   "metadata": {},
   "outputs": [],
   "source": []
  }
 ],
 "metadata": {
  "interpreter": {
   "hash": "ec5a4a71b9c1e1c9dfda517a6bb3653cf7f062d5c52e1b338868215159a48263"
  },
  "kernelspec": {
   "display_name": "Python 3.8.3 64-bit ('base': conda)",
   "name": "python3"
  },
  "language_info": {
   "codemirror_mode": {
    "name": "ipython",
    "version": 3
   },
   "file_extension": ".py",
   "mimetype": "text/x-python",
   "name": "python",
   "nbconvert_exporter": "python",
   "pygments_lexer": "ipython3",
   "version": "3.8.3"
  },
  "orig_nbformat": 4
 },
 "nbformat": 4,
 "nbformat_minor": 2
}